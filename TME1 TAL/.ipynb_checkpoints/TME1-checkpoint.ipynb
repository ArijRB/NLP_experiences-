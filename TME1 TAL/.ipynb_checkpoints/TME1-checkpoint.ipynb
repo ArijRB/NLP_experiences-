{
 "cells": [
  {
   "cell_type": "code",
   "execution_count": 73,
   "metadata": {},
   "outputs": [
    {
     "name": "stdout",
     "output_type": "stream",
     "text": [
      "The autoreload extension is already loaded. To reload it, use:\n",
      "  %reload_ext autoreload\n"
     ]
    }
   ],
   "source": [
    "%load_ext autoreload\n",
    "%autoreload 2\n",
    "from tools import *\n",
    "import matplotlib.pyplot as plt\n",
    "from nltk.tag.perceptron import PerceptronTagger\n",
    "import nltk"
   ]
  },
  {
   "cell_type": "code",
   "execution_count": 18,
   "metadata": {},
   "outputs": [
    {
     "name": "stdout",
     "output_type": "stream",
     "text": [
      "823 docs read\n",
      "77 docs (T) read\n"
     ]
    }
   ],
   "source": [
    "# =============== chargement ============\n",
    "filename = \"dataWapiti/wapiti/chtrain.txt\" # a modifier\n",
    "filenameT = \"dataWapiti/wapiti/chtest.txt\" # a modifier\n",
    "\n",
    "alldocs = load(filename)\n",
    "alldocsT = load(filenameT)\n",
    "\n",
    "print(\"{} docs read\".format(len(alldocs)))\n",
    "print(\"{} docs (T) read\".format(len(alldocsT)))"
   ]
  },
  {
   "cell_type": "markdown",
   "metadata": {},
   "source": [
    "## I - Approche à base de dictionnaire :"
   ]
  },
  {
   "cell_type": "code",
   "execution_count": 41,
   "metadata": {},
   "outputs": [],
   "source": [
    "d_train = create_dict_from_docs(alldocs)\n"
   ]
  },
  {
   "cell_type": "code",
   "execution_count": 20,
   "metadata": {},
   "outputs": [
    {
     "data": {
      "text/plain": [
       "(1433, 1896)"
      ]
     },
     "execution_count": 20,
     "metadata": {},
     "output_type": "execute_result"
    }
   ],
   "source": [
    "score,n=eval_with_dict(d_train, alldocsT)\n",
    "score,n"
   ]
  },
  {
   "cell_type": "code",
   "execution_count": 21,
   "metadata": {},
   "outputs": [
    {
     "data": {
      "text/plain": [
       "75.58016877637131"
      ]
     },
     "execution_count": 21,
     "metadata": {},
     "output_type": "execute_result"
    }
   ],
   "source": [
    "perc=score*1./n*100\n",
    "perc\n",
    "#Cette méthode associe simplement chaque mot de la base d’apprentissage au tag qui lui correspond. \n",
    "#on remarque q'avec l'approche à base de dictionnaire sans raffinement on obtient une performance de 75.5 % (en cas d'ambiguïté, le dernier mot de la liste impose son choix)"
   ]
  },
  {
   "cell_type": "code",
   "execution_count": 22,
   "metadata": {},
   "outputs": [],
   "source": [
    "# on va tester l'approche en metteant tout les mots en minuscules\n",
    "alldocs_m=load_min(filename)\n",
    "alldocsT_m=load_min(filenameT)"
   ]
  },
  {
   "cell_type": "code",
   "execution_count": 23,
   "metadata": {},
   "outputs": [
    {
     "data": {
      "text/plain": [
       "74.73628691983122"
      ]
     },
     "execution_count": 23,
     "metadata": {},
     "output_type": "execute_result"
    }
   ],
   "source": [
    "d_train = create_dict_from_docs(alldocs_m)\n",
    "score,n=eval_with_dict(d_train, alldocsT_m)\n",
    "perc=score*1./n*100\n",
    "perc\n",
    "#cela dégrade un peu les performances"
   ]
  },
  {
   "cell_type": "code",
   "execution_count": 24,
   "metadata": {},
   "outputs": [],
   "source": [
    "#on va tester l'approche en appliquant de steeming sur tout les mots des documents en train et test\n",
    "alldocs_s=load_stem(filename)\n",
    "alldocsT_s=load_stem(filenameT)"
   ]
  },
  {
   "cell_type": "code",
   "execution_count": 25,
   "metadata": {},
   "outputs": [
    {
     "data": {
      "text/plain": [
       "67.29957805907173"
      ]
     },
     "execution_count": 25,
     "metadata": {},
     "output_type": "execute_result"
    }
   ],
   "source": [
    "d_train = create_dict_from_docs(alldocs_s)\n",
    "score,n=eval_with_dict(d_train, alldocsT_s)\n",
    "perc=score*1./n*100\n",
    "perc\n",
    "#le steeming degrade plus la performance puisque on perd des informations importantes pour le post-tagging"
   ]
  },
  {
   "cell_type": "code",
   "execution_count": 26,
   "metadata": {},
   "outputs": [
    {
     "data": {
      "text/plain": [
       "80.5379746835443"
      ]
     },
     "execution_count": 26,
     "metadata": {},
     "output_type": "execute_result"
    }
   ],
   "source": [
    "# on va pas faire des pretraitement mais pour les nouveaux mots inconnus en test  on va predire la classe majoritaire de document \n",
    "d_train = create_dict_from_docs(alldocs)\n",
    "score,n=eval_with_dict_maj(d_train, alldocsT)\n",
    "perc=score*1./n*100\n",
    "perc\n",
    "#cela améliore les performancees "
   ]
  },
  {
   "cell_type": "markdown",
   "metadata": {},
   "source": [
    "cette methode est rapide et simple à implementer mais on gnore le contexte de la phrase et on peut pas avoir différents tags pour un seul mot "
   ]
  },
  {
   "cell_type": "markdown",
   "metadata": {},
   "source": [
    "## Méthodes séquentielles\n"
   ]
  },
  {
   "cell_type": "code",
   "execution_count": 61,
   "metadata": {
    "collapsed": true
   },
   "outputs": [],
   "source": [
    "#on utilise les chaînes de Markov cachées pour apprendre les probabilités d’apparition des tags en fonction \n",
    "#de leur position dans la phrase. Ainsi Après avoir tourné le modèle on cherche les labels par maximum de vraisemblance\n",
    "allx,allxT,allq,allqT,mots2ind,cles2ind=from_docs_to_sequences(alldocs,alldocsT)"
   ]
  },
  {
   "cell_type": "code",
   "execution_count": 50,
   "metadata": {
    "collapsed": true
   },
   "outputs": [],
   "source": [
    "N = len(cles2ind)\n",
    "K = len(mots2ind)"
   ]
  },
  {
   "cell_type": "code",
   "execution_count": 51,
   "metadata": {
    "collapsed": true
   },
   "outputs": [],
   "source": [
    "Pi, A, B = learnHMM(allx, allq, N, K, initTo1=True)"
   ]
  },
  {
   "cell_type": "code",
   "execution_count": 52,
   "metadata": {},
   "outputs": [],
   "source": [
    "resu=[]\n",
    "for x in allxT:\n",
    "    resu.append(viterbi(x,Pi,A,B)[0])"
   ]
  },
  {
   "cell_type": "code",
   "execution_count": 70,
   "metadata": {},
   "outputs": [
    {
     "data": {
      "text/plain": [
       "(1536, 1896)"
      ]
     },
     "execution_count": 70,
     "metadata": {},
     "output_type": "execute_result"
    }
   ],
   "source": [
    "score = 0\n",
    "n=0\n",
    "confMat = np.zeros((len(A), len(A)))\n",
    "for i in range(len(alldocsT)):\n",
    "    for j in range(len(alldocsT[i])):\n",
    "        n+=1\n",
    "        if cles2ind[alldocsT[i][j][1]]==int(resu[i][j]):\n",
    "            score+=1\n",
    "        confMat[cles2ind[alldocsT[i][j][1]] - 1][int(resu[i][j]) - 1] += 1\n",
    "score,n"
   ]
  },
  {
   "cell_type": "code",
   "execution_count": 35,
   "metadata": {},
   "outputs": [
    {
     "data": {
      "text/plain": [
       "81.0126582278481"
      ]
     },
     "execution_count": 35,
     "metadata": {},
     "output_type": "execute_result"
    }
   ],
   "source": [
    "score*1./n *100"
   ]
  },
  {
   "cell_type": "code",
   "execution_count": 72,
   "metadata": {},
   "outputs": [
    {
     "data": {
      "image/png": "[encoded data removed]",
      "text/plain": [
       "<matplotlib.figure.Figure at 0x7f351e98df98>"
      ]
     },
     "metadata": {},
     "output_type": "display_data"
    }
   ],
   "source": [
    "localLabs = np.unique(np.array(list(d_train.values())))\n",
    "plt.figure()\n",
    "plt.imshow(confMat, interpolation='nearest')\n",
    "localLabs = cles  # liste des POS-TAG\n",
    "plt.yticks(range(len(localLabs)), localLabs)  # affichage sur l'image\n",
    "plt.xticks(range(len(localLabs)), localLabs)\n",
    "plt.show()"
   ]
  },
  {
   "cell_type": "markdown",
   "metadata": {},
   "source": [
    "cette methode est plus lente en prediction vu les calculs à faire à chaque fois"
   ]
  },
  {
   "cell_type": "markdown",
   "metadata": {},
   "source": [
    "## Expériences dans nltk\n"
   ]
  },
  {
   "cell_type": "code",
   "execution_count": 55,
   "metadata": {
    "collapsed": true
   },
   "outputs": [],
   "source": [
    "tagger = PerceptronTagger(load=False)\n",
    "tagger.train(alldocs)\n"
   ]
  },
  {
   "cell_type": "code",
   "execution_count": 56,
   "metadata": {
    "collapsed": true
   },
   "outputs": [],
   "source": [
    "adT_seq = from_docs_to_words(alldocsT)"
   ]
  },
  {
   "cell_type": "code",
   "execution_count": 57,
   "metadata": {
    "collapsed": true
   },
   "outputs": [],
   "source": [
    "allpred_smart  = [[t for w,t in tagger.tag(adT_seq[i])] for i in range(len(adT_seq))]\n",
    "allpred_stupid = [[tagger.tag([w])[0][1] for w in adT_seq[i]] for i in range(len(adT_seq))]\n"
   ]
  },
  {
   "cell_type": "code",
   "execution_count": 74,
   "metadata": {},
   "outputs": [
    {
     "data": {
      "text/plain": [
       "91.82489451476793"
      ]
     },
     "execution_count": 74,
     "metadata": {},
     "output_type": "execute_result"
    }
   ],
   "source": [
    "score,n=eval_(allpred_smart, alldocsT)\n",
    "perc=score*1./n*100\n",
    "perc"
   ]
  },
  {
   "cell_type": "code",
   "execution_count": 75,
   "metadata": {},
   "outputs": [
    {
     "data": {
      "text/plain": [
       "79.27215189873418"
      ]
     },
     "execution_count": 75,
     "metadata": {},
     "output_type": "execute_result"
    }
   ],
   "source": [
    "score,n=eval_(allpred_stupid, alldocsT)\n",
    "perc=score*1./n*100\n",
    "perc"
   ]
  },
  {
   "cell_type": "code",
   "execution_count": 62,
   "metadata": {},
   "outputs": [],
   "source": [
    "allpred_nltk  = [[t for w,t in nltk.pos_tag(adT_seq[i])] \\\n",
    "                 for i in range(len(adT_seq))]"
   ]
  },
  {
   "cell_type": "code",
   "execution_count": 77,
   "metadata": {},
   "outputs": [
    {
     "data": {
      "text/plain": [
       "95.62236286919831"
      ]
     },
     "execution_count": 77,
     "metadata": {},
     "output_type": "execute_result"
    }
   ],
   "source": [
    "score,n=eval_(allpred_nltk , alldocsT)\n",
    "perc=score*1./n*100\n",
    "perc\n",
    "#on a des meilleurs performances avec pos-tagger pré-entrainé dans nltk"
   ]
  }
 ],
 "metadata": {
  "kernelspec": {
   "display_name": "Python 3",
   "language": "python",
   "name": "python3"
  },
  "language_info": {
   "codemirror_mode": {
    "name": "ipython",
    "version": 3
   },
   "file_extension": ".py",
   "mimetype": "text/x-python",
   "name": "python",
   "nbconvert_exporter": "python",
   "pygments_lexer": "ipython3",
   "version": "3.6.3"
  }
 },
 "nbformat": 4,
 "nbformat_minor": 2
}
